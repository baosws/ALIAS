{
 "cells": [
  {
   "cell_type": "code",
   "execution_count": 1,
   "metadata": {},
   "outputs": [],
   "source": [
    "import warnings\n",
    "import os\n",
    "warnings.simplefilter(\"ignore\")\n",
    "os.environ[\"PYTHONWARNINGS\"] = \"ignore\"\n",
    "import logging\n",
    "logging.basicConfig(force=True)"
   ]
  },
  {
   "cell_type": "code",
   "execution_count": 3,
   "metadata": {},
   "outputs": [
    {
     "data": {
      "text/html": [
       "<pre style=\"white-space:pre;overflow-x:auto;line-height:normal;font-family:Menlo,'DejaVu Sans Mono',consolas,'Courier New',monospace\"></pre>\n"
      ],
      "text/plain": []
     },
     "metadata": {},
     "output_type": "display_data"
    },
    {
     "name": "stdout",
     "output_type": "stream",
     "text": [
      "{'fdr': 0.0, 'tpr': 1.0, 'fpr': 0.0, 'shd': 0, 'nnz': 112, 'precision': np.float64(1.0), 'recall': np.float64(1.0), 'F1': np.float64(1.0), 'gscore': np.float64(1.0)}\n"
     ]
    }
   ],
   "source": [
    "n_samples = 1000\n",
    "n_nodes = 20\n",
    "expected_indegree = 6\n",
    "seed = 3\n",
    "\n",
    "# simulate linear Gaussian data\n",
    "from castle.datasets import IIDSimulation, DAG\n",
    "W = DAG.erdos_renyi(n_nodes=n_nodes, n_edges=n_nodes * expected_indegree, weight_range=[.5, 2], seed=seed)\n",
    "dataset = IIDSimulation(W=W, n=n_samples)\n",
    "groundtruth_dag, data = dataset.B, dataset.X\n",
    "\n",
    "# run ALIAS\n",
    "from alias.ALIAS import ALIAS\n",
    "est = ALIAS(\n",
    "    X=data,\n",
    "    n_envs=64,                  # number of environments, similar to batch_size in RL_BIC & CORL\n",
    "    steps_per_env=20000,        # total steps is steps_per_env x n_envs\n",
    "    dag_scorer_cls='BIC',       # using BIC score (Bayesian Information Criterion), custom scoring methods can be defined in alias.DAGScore\n",
    "    dag_scorer_kwargs={'regressor': 'LinearRegression', 'variant': 'EV'}, # BIC-EV with Linear Regression, custom regressors can be defined in alias.DAGScore\n",
    ")\n",
    "\n",
    "# pruning the returned DAG may be beneficial\n",
    "from utils.dag_pruners import prune_by_linear_weight\n",
    "pruned_dag = prune_by_linear_weight(X=data, dag=est, threshold=.3)\n",
    "\n",
    "# evaluate\n",
    "from castle.metrics import MetricsDAG\n",
    "print(MetricsDAG._count_accuracy(pruned_dag, groundtruth_dag))"
   ]
  }
 ],
 "metadata": {
  "kernelspec": {
   "display_name": "Python 3",
   "language": "python",
   "name": "python3"
  },
  "language_info": {
   "codemirror_mode": {
    "name": "ipython",
    "version": 3
   },
   "file_extension": ".py",
   "mimetype": "text/x-python",
   "name": "python",
   "nbconvert_exporter": "python",
   "pygments_lexer": "ipython3",
   "version": "3.9.20"
  }
 },
 "nbformat": 4,
 "nbformat_minor": 2
}
